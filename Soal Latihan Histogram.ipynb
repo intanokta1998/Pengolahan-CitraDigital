{
 "cells": [
  {
   "cell_type": "markdown",
   "metadata": {},
   "source": [
    "no 1"
   ]
  },
  {
   "cell_type": "code",
   "execution_count": 3,
   "metadata": {},
   "outputs": [
    {
     "data": {
      "image/png": "[encoded data removed]",
      "text/plain": [
       "<Figure size 432x288 with 1 Axes>"
      ]
     },
     "metadata": {},
     "output_type": "display_data"
    }
   ],
   "source": [
    "\n",
    "\n",
    "import numpy as np\n",
    "import matplotlib.pyplot as plt\n",
    "histo = [120, 129, 122, 121, 125, 130, \n",
    "         124, 128, 125, 123, 129, 129, \n",
    "         127, 123, 122, 128, 121, 125, \n",
    "         122, 126, 124, 127, 139, 120,\n",
    "         128, 128, 123, 120, 129, 121,\n",
    "         128, 127, 124, 122, 121, 126]\n",
    "\n",
    "plt.style.use('ggplot')\n",
    "plt.hist(histo, bins =100,color=['green'],label=['Histo'])\n",
    "plt.legend()\n",
    "plt.show()\n"
   ]
  },
  {
   "cell_type": "markdown",
   "metadata": {},
   "source": [
    "no 2"
   ]
  },
  {
   "cell_type": "code",
   "execution_count": 2,
   "metadata": {},
   "outputs": [
    {
     "data": {
      "image/png": "[encoded data removed]",
      "text/plain": [
       "<Figure size 432x288 with 1 Axes>"
      ]
     },
     "metadata": {},
     "output_type": "display_data"
    }
   ],
   "source": [
    "import numpy as np\n",
    "import matplotlib.pyplot as plt\n",
    "histo = [7,7,7,7,7,5,5,5,5,5,\n",
    "7,7,7,6,6,6,6,5,5,5,\n",
    "5,5,5,5,5,4,4,5,5,5,\n",
    "3,3,3,3,4,4,4,4,5,6,\n",
    "4,4,4,2,2,0,0,0,0,1,\n",
    "5,5,6,7,7,7,7,6,6,7,\n",
    "4,4,3,3,4,5,5,5,6,6,\n",
    "7,7,7,7,7,6,7,7,7,5,\n",
    "6,6,6,6,7,7,7,5,5,5,\n",
    "4,4,4,5,5,5,6,6,6,6]\n",
    "\n",
    "plt.style.use('ggplot')\n",
    "plt.hist(histo, bins =100,color=['Blue'],label=['Histo'])\n",
    "plt.legend()\n",
    "plt.show()"
   ]
  },
  {
   "cell_type": "code",
   "execution_count": null,
   "metadata": {},
   "outputs": [],
   "source": []
  }
 ],
 "metadata": {
  "kernelspec": {
   "display_name": "Python 3",
   "language": "python",
   "name": "python3"
  },
  "language_info": {
   "codemirror_mode": {
    "name": "ipython",
    "version": 3
   },
   "file_extension": ".py",
   "mimetype": "text/x-python",
   "name": "python",
   "nbconvert_exporter": "python",
   "pygments_lexer": "ipython3",
   "version": "3.7.4"
  }
 },
 "nbformat": 4,
 "nbformat_minor": 2
}
